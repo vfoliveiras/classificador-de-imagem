{
  "nbformat": 4,
  "nbformat_minor": 0,
  "metadata": {
    "colab": {
      "provenance": [],
      "collapsed_sections": [
        "s9GpNfSBCyAZ",
        "WK6OuxatDCBV",
        "4zbrr3Kvcviu",
        "n3CCwvdFE3FE",
        "nnZUVdupIFJs"
      ]
    },
    "kernelspec": {
      "name": "python3",
      "display_name": "Python 3"
    },
    "language_info": {
      "name": "python"
    }
  },
  "cells": [
    {
      "cell_type": "markdown",
      "source": [
        "# Importação de Bibliotecas\n",
        "\n",
        "As bibliotecas utilizadas incluem NumPy para manipulação de arrays, Matplotlib para visualização, Scikit-learn para o modelo Perceptron e métricas de avaliação, e skimage para o processamento de imagens."
      ],
      "metadata": {
        "id": "s9GpNfSBCyAZ"
      }
    },
    {
      "cell_type": "code",
      "execution_count": 56,
      "metadata": {
        "id": "O6OG9xlMm-WL"
      },
      "outputs": [],
      "source": [
        "import numpy as np\n",
        "import matplotlib.pyplot as plt\n",
        "from sklearn.linear_model import Perceptron\n",
        "from sklearn.model_selection import train_test_split, cross_val_score\n",
        "from sklearn.metrics import precision_score, recall_score, f1_score, confusion_matrix\n",
        "from sklearn.model_selection import train_test_split\n",
        "from sklearn.preprocessing import StandardScaler\n",
        "from sklearn.metrics import accuracy_score\n",
        "from skimage import io\n",
        "import os"
      ]
    },
    {
      "cell_type": "markdown",
      "source": [
        "# Carregamento e Pré-processamento de Dados\n",
        "\n",
        "O código realiza o carregamento e pré-processamento das imagens, convertendo-as em arrays unidimensionais."
      ],
      "metadata": {
        "id": "WK6OuxatDCBV"
      }
    },
    {
      "cell_type": "code",
      "source": [
        "# Descompactar as imagens\n",
        "!unzip -q Imagens.zip\n",
        "\n",
        "# Diretório com as imagens\n",
        "image_directory = \"Imagens\"\n",
        "\n",
        "# Função para carregar e pré-processar imagens\n",
        "def load_images(directory):\n",
        "    images = []\n",
        "    labels = []\n",
        "    for filename in os.listdir(directory):\n",
        "        if filename.endswith(\".jpg\"):\n",
        "            img_path = os.path.join(directory, filename)\n",
        "            img = io.imread(img_path, as_gray=True)\n",
        "            img = img.flatten()  # Transformar em array unidimensional\n",
        "            images.append(img)\n",
        "            labels.append(filename)\n",
        "\n",
        "    return np.array(images), np.array(labels)\n",
        "\n",
        "# Carregar imagens e rótulos\n",
        "X, y = load_images(image_directory)"
      ],
      "metadata": {
        "id": "-QnwLdoyEmxo"
      },
      "execution_count": 4,
      "outputs": []
    },
    {
      "cell_type": "markdown",
      "source": [
        "# Divisão em Conjuntos de Treinamento e Teste\n",
        "\n",
        "Os dados são divididos em conjuntos de treinamento e teste, sendo 80% para treinamento e 20% para teste."
      ],
      "metadata": {
        "id": "4zbrr3Kvcviu"
      }
    },
    {
      "cell_type": "code",
      "source": [
        "# Dividir dados em conjuntos de treinamento e teste\n",
        "X_train, X_test, y_train, y_test = train_test_split(X, y, test_size=0.2, random_state=42)\n",
        "\n",
        "# Antes do treinamento\n",
        "print(\"Shape de X_train:\", X_train.shape)\n",
        "print(\"Shape de y_train:\", y_train.shape)\n",
        "print(\"Primeras linhas de X_train e y_train:\")\n",
        "print(X_train[:5])\n",
        "print(y_train[:5])"
      ],
      "metadata": {
        "id": "Hmukh2S1c1Yy",
        "colab": {
          "base_uri": "https://localhost:8080/"
        },
        "outputId": "6a2b4ed4-e0c1-40c0-d4d0-1e7f0d8ffdb2"
      },
      "execution_count": 92,
      "outputs": [
        {
          "output_type": "stream",
          "name": "stdout",
          "text": [
            "Shape de X_train: (320, 93600)\n",
            "Shape de y_train: (320,)\n",
            "Primeras linhas de X_train e y_train:\n",
            "[[1.         1.         1.         ... 0.04649333 0.03080706 0.04649333]\n",
            " [0.67983804 0.69160275 0.68768118 ... 0.43350667 0.43350667 0.43742824]\n",
            " [0.70901529 0.70901529 0.70901529 ... 0.47525373 0.47917529 0.48309686]\n",
            " [0.83674549 0.84066706 0.84066706 ... 0.05296039 0.06080353 0.0764898 ]\n",
            " [0.73668941 0.73276784 0.72884627 ... 0.52689686 0.52689686 0.51905373]]\n",
            "['155b.jpg' '136b.jpg' '164b.jpg' '117a.jpg' '182a.jpg']\n"
          ]
        }
      ]
    },
    {
      "cell_type": "markdown",
      "source": [
        "# Nomalização dos Dados"
      ],
      "metadata": {
        "id": "ytxOkUXkh8jA"
      }
    },
    {
      "cell_type": "code",
      "source": [
        "# Normalização de Dados\n",
        "scaler = StandardScaler()\n",
        "X_train_scaled = scaler.fit_transform(X_train)\n",
        "X_test_scaled = scaler.transform(X_test)"
      ],
      "metadata": {
        "id": "nqEOz01ygz83"
      },
      "execution_count": 93,
      "outputs": []
    },
    {
      "cell_type": "markdown",
      "source": [
        "# Treinamento do Perceptron\n",
        "\n",
        "Um Perceptron é instanciado e treinado utilizando os conjuntos de treinamento."
      ],
      "metadata": {
        "id": "n3CCwvdFE3FE"
      }
    },
    {
      "cell_type": "code",
      "source": [
        "# Instanciar o Perceptron com regularização L2 (alpha)\n",
        "perceptron = Perceptron(max_iter=1000, random_state=42, penalty='l2', alpha=0.001)\n",
        "\n",
        "# Extrair informações dos rótulos\n",
        "y_train_binary = np.array([1 if 'a' in label else 0 for label in y_train])\n",
        "y_test_binary = np.array([1 if 'a' in label else 0 for label in y_test])\n",
        "\n",
        "# Realizar validação cruzada com acurácia\n",
        "cv_scores = cross_val_score(perceptron, X_train_scaled, y_train_binary, cv=5, scoring='accuracy')\n",
        "\n",
        "print(\"Acurácia em cada fold:\", cv_scores)\n",
        "print(\"Acurácia média:\", np.mean(cv_scores))"
      ],
      "metadata": {
        "colab": {
          "base_uri": "https://localhost:8080/"
        },
        "id": "BgVF6vqKcXS1",
        "outputId": "761bcd05-9713-455a-a0b4-43b32ac1fe42"
      },
      "execution_count": 94,
      "outputs": [
        {
          "output_type": "stream",
          "name": "stdout",
          "text": [
            "Acurácia em cada fold: [0.890625 0.953125 0.890625 0.90625  0.90625 ]\n",
            "Acurácia média: 0.909375\n"
          ]
        }
      ]
    },
    {
      "cell_type": "markdown",
      "source": [
        "# Avaliação do Modelo\n",
        "\n",
        "O modelo é avaliado utilizando métricas como precisão, recall e F1-score, com rótulos binários."
      ],
      "metadata": {
        "id": "nnZUVdupIFJs"
      }
    },
    {
      "cell_type": "code",
      "source": [
        "# Treinar o Perceptron\n",
        "perceptron.fit(X_train_scaled, y_train_binary)\n",
        "\n",
        "# Prever os rótulos para os dados de teste\n",
        "y_pred_binary = perceptron.predict(X_test_scaled)"
      ],
      "metadata": {
        "id": "ojftk9z2URxo"
      },
      "execution_count": 95,
      "outputs": []
    },
    {
      "cell_type": "code",
      "source": [
        "# Calcular métricas de avaliação\n",
        "precision = precision_score(y_test_binary, y_pred_binary)\n",
        "recall = recall_score(y_test_binary, y_pred_binary)\n",
        "f1 = f1_score(y_test_binary, y_pred_binary)\n",
        "\n",
        "# Exibir métricas de avaliação\n",
        "print(f'Precisão: {precision:.2f}')\n",
        "print(f'Recall: {recall:.2f}')\n",
        "print(f'F1-score: {f1:.2f}')"
      ],
      "metadata": {
        "colab": {
          "base_uri": "https://localhost:8080/"
        },
        "id": "ljwvbB3KcpKM",
        "outputId": "797cf577-f5ef-48fc-f184-7dce338fd6d0"
      },
      "execution_count": 96,
      "outputs": [
        {
          "output_type": "stream",
          "name": "stdout",
          "text": [
            "Precisão: 0.91\n",
            "Recall: 0.95\n",
            "F1-score: 0.93\n"
          ]
        }
      ]
    },
    {
      "cell_type": "code",
      "source": [
        "# Matriz de Confusão\n",
        "conf_matrix = confusion_matrix(y_test_binary, y_pred_binary)\n",
        "print('Matriz de Confusão:')\n",
        "print(conf_matrix)\n",
        "\n",
        "# Visualização da Matriz de Confusão\n",
        "import seaborn as sns\n",
        "plt.figure(figsize=(5, 5))\n",
        "sns.heatmap(conf_matrix, annot=True, fmt='d', cmap='Blues', cbar=False,\n",
        "            xticklabels=['Classe Negativa', 'Classe Positiva'],\n",
        "            yticklabels=['Classe Negativa', 'Classe Positiva'])\n",
        "plt.xlabel('Previsão')\n",
        "plt.ylabel('Real')\n",
        "plt.title('Matriz de Confusão')\n",
        "plt.show()"
      ],
      "metadata": {
        "colab": {
          "base_uri": "https://localhost:8080/",
          "height": 539
        },
        "id": "3PFI0RX-ctFk",
        "outputId": "29aad072-faf8-4b59-f5c9-4559cab78bb4"
      },
      "execution_count": 97,
      "outputs": [
        {
          "output_type": "stream",
          "name": "stdout",
          "text": [
            "Matriz de Confusão:\n",
            "[[32  4]\n",
            " [ 2 42]]\n"
          ]
        },
        {
          "output_type": "display_data",
          "data": {
            "text/plain": [
              "<Figure size 500x500 with 1 Axes>"
            ],
            "image/png": "[encoded data removed]"
          },
          "metadata": {}
        }
      ]
    },
    {
      "cell_type": "markdown",
      "source": [
        "# Conclusão\n",
        "\n",
        "O projeto proporcionou uma introdução prática à aplicação de aprendizado de máquina em tarefas de classificação de imagens. As métricas indicam um desempenho consistente e promissor. Futuramente irei explorar abordagens mais avançadas e ajustar hiperparâmetros para aprimorar o modelo em aplicações práticas.\n",
        "\n",
        "# Interpretação das Métricas\n",
        "\n",
        "**Precisão (Precision):** A precisão mede a proporção de instâncias positivas que foram corretamente previstas pelo modelo em relação ao total de instâncias positivas previstas. Uma precisão de 0.91 indica que aproximadamente 91% das previsões positivas feitas pelo modelo estão corretas.\n",
        "\n",
        "**Recall (Sensibilidade):** O recall mede a proporção de instâncias positivas que foram corretamente previstas pelo modelo em relação ao total de instâncias positivas reais. Neste caso, um recall de 0.95 significa que o modelo está identificando corretamente 95% das instâncias positivas reais.\n",
        "\n",
        "**F1-score:** O F1-score é uma média harmônica entre precisão e recall. Ele fornece uma medida única que equilibra ambas as métricas. Uma pontuação de 0.93 indica um equilíbrio sólido entre precisão e recall.\n",
        "\n",
        "# Análise da Matriz de Confusão\n",
        "\n",
        "* **Verdadeiro Positivo (TP):** 42 instâncias foram corretamente classificadas como positivas.\n",
        "* **Falso Negativo (FN):** 2 instâncias positivas foram erroneamente classificadas como negativas.\n",
        "* **Falso Positivo (FP):** 4 instâncias negativas foram erroneamente classificadas como positivas.\n",
        "* **Verdadeiro Negativo (TN):** 32 instâncias foram corretamente classificadas como negativas.\n",
        "\n",
        "Essa matriz permite uma análise mais granular do desempenho do modelo. Por exemplo, o valor baixo de falsos positivos (FP = 4) é um bom indicativo de que o modelo está rotulando erroneamente pouquíssimas instâncias negativas como positivas. A presença de poucos falsos negativos (FN = 2) sugere que o modelo está identificando corretamente quase todas as instâncias positivas, o que é refletido no recall alto (95%)."
      ],
      "metadata": {
        "id": "n4FKOZwHfnyf"
      }
    }
  ]
}